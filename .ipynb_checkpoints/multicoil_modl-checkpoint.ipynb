{
 "cells": [
  {
   "cell_type": "code",
   "execution_count": 28,
   "metadata": {},
   "outputs": [],
   "source": [
    "# the PSNR of Modl method is 39.22 dB, ours are 45.08 dB\n",
    "# see in https://github.com/hkaggarwal/modl"
   ]
  },
  {
   "cell_type": "code",
   "execution_count": 3,
   "metadata": {},
   "outputs": [],
   "source": [
    "import os\n",
    "import time\n",
    "import cv2\n",
    "import torch\n",
    "import torch.nn as nn\n",
    "import h5py\n",
    "import numpy as np\n",
    "import math\n",
    "\n",
    "from src.modelzoo.rvcnn.condrefinenet import CondRefineNetDilated\n",
    "from src.config import get_cfg_defaults\n",
    "from src.data import numpy2tensor, image2tensor, tensor2image, tensor2complex, tensor_split\n",
    "from src.modelzoo.dncnn import DnCNN\n",
    "from src.metrics import psnr, ssim, batch_PSNR\n",
    "from src.utils_pnp import *\n",
    "import matplotlib.pyplot as plt\n",
    "\n",
    "from scipy.io import loadmat,savemat\n",
    "\n",
    "os.environ[\"CUDA_DEVICE_ORDER\"] = \"PCI_BUS_ID\"\n",
    "os.environ[\"CUDA_VISIBLE_DEVICES\"] = \"1\""
   ]
  },
  {
   "cell_type": "code",
   "execution_count": 4,
   "metadata": {},
   "outputs": [],
   "source": [
    "label_num = 10\n",
    "chp_path = '/home/rzhou/local/SIAT_TRPA/net.pth'\n",
    "states = torch.load(chp_path)\n",
    "scorenet = CondRefineNetDilated(6,6,128).cuda()\n",
    "scorenet.load_state_dict(states['weights'])\n",
    "scorenet.eval();"
   ]
  },
  {
   "cell_type": "code",
   "execution_count": 19,
   "metadata": {},
   "outputs": [],
   "source": [
    "filename='./data/modl/demoImage.hdf5' #set the correct path here\n",
    "with h5py.File(filename,'r') as f:\n",
    "    org,csm,mask=f['tstOrg'][:],f['tstCsm'][:],f['tstMask'][:]\n",
    "#print(org.shape,csm.shape,mask.shape)\n",
    "orim = org[0]\n",
    "csm = csm[0]\n",
    "patt = mask[0]"
   ]
  },
  {
   "cell_type": "code",
   "execution_count": 20,
   "metadata": {},
   "outputs": [],
   "source": [
    "def FT(x,csm):\n",
    "    \"\"\" This is a the A operator as defined in the paper\"\"\"\n",
    "    ncoil,nrow,ncol = csm.shape\n",
    "    ccImg=np.reshape(x,(nrow,ncol) )\n",
    "    coilImages=np.tile(ccImg,[ncoil,1,1])*csm;\n",
    "    kspace=np.fft.fft2(coilImages)/np.sqrt(nrow * ncol)\n",
    "    return kspace\n",
    "\n",
    "def tFT(kspaceUnder,csm):\n",
    "    \"\"\" This is a the A^T operator as defined in the paper\"\"\"\n",
    "    ncoil,nrow,ncol = csm.shape\n",
    "    #temp=np.zeros((ncoil,nrow,ncol),dtype=np.complex64)\n",
    "    img=np.fft.ifft2(kspaceUnder)*np.sqrt(nrow*ncol)\n",
    "    coilComb=np.sum(img*np.conj(csm),axis=0).astype(np.complex64)\n",
    "    #coilComb=coilComb.ravel();\n",
    "    return coilComb"
   ]
  },
  {
   "cell_type": "code",
   "execution_count": 21,
   "metadata": {},
   "outputs": [
    {
     "name": "stdout",
     "output_type": "stream",
     "text": [
      "(12, 256, 232)\n"
     ]
    }
   ],
   "source": [
    "img_original = orim\n",
    "\n",
    "img_original = img_original/np.max(np.abs(img_original))\n",
    "mask_np = patt\n",
    "#print(ori_complex.shape,csm.shape,mask.shape)\n",
    "ksp = FT(img_original,csm)\n",
    "print(ksp.shape)\n",
    "if len(mask_np.shape)==2:\n",
    "    mask_np=np.tile(mask_np,(csm.shape[0],1,1))\n",
    "#get multi coil undersample kspace by mask\n",
    "\n",
    "usksp = ksp * mask\n",
    "\n",
    "image_zeroFilled = tFT(usksp,csm)\n",
    "\n",
    "kspace_sampled = usksp"
   ]
  },
  {
   "cell_type": "code",
   "execution_count": 23,
   "metadata": {},
   "outputs": [],
   "source": [
    "image_target = numpy2tensor(img_original).permute(2,0,1).unsqueeze(0).cuda() # only compute the PSNR\n",
    "\n",
    "image_initial = numpy2tensor(image_zeroFilled).permute(2,0,1).unsqueeze(0).cuda()\n",
    "# image_initial = torch.rand_like(image_target)\n",
    "\n",
    "mask = torch.Tensor(mask_np).unsqueeze(0).unsqueeze(-1) #(1,h,w,1)\n",
    "mask = torch.cat((mask,mask), dim=-1)"
   ]
  },
  {
   "cell_type": "code",
   "execution_count": 25,
   "metadata": {},
   "outputs": [
    {
     "name": "stdout",
     "output_type": "stream",
     "text": [
      "iter: 0, rho: 0.00315, sigma: 46, PSNR: 24.43093966814418, TIME: 0.1672520637512207\n",
      "iter: 10, rho: 0.005131018074348942, sigma: 36, PSNR: 27.658706830420652, TIME: 2.3925061225891113\n",
      "iter: 20, rho: 0.008357887771204931, sigma: 28, PSNR: 28.98855507085516, TIME: 4.624311447143555\n",
      "iter: 30, rho: 0.013614118481724603, sigma: 22, PSNR: 30.214239781762554, TIME: 6.855221748352051\n",
      "iter: 40, rho: 0.022175964443192676, sigma: 17, PSNR: 31.365415675092194, TIME: 9.083608150482178\n",
      "iter: 50, rho: 0.03612230932512416, sigma: 13, PSNR: 32.435633417716865, TIME: 11.321036577224731\n",
      "iter: 60, rho: 0.05883943556648745, sigma: 10, PSNR: 33.46869171134606, TIME: 13.550966739654541\n",
      "iter: 70, rho: 0.0958432404368689, sigma: 8, PSNR: 34.484825785855236, TIME: 15.776256322860718\n",
      "iter: 80, rho: 0.15611853936055423, sigma: 6, PSNR: 35.48664646515273, TIME: 17.999722003936768\n",
      "iter: 90, rho: 0.2543006499047494, sigma: 5, PSNR: 36.429825597459576, TIME: 20.216114282608032\n",
      "iter: 100, rho: 0.41422896221585775, sigma: 4, PSNR: 37.31738456565428, TIME: 22.433916330337524\n",
      "iter: 110, rho: 0.6747353308090069, sigma: 3, PSNR: 38.14154716681897, TIME: 24.522647857666016\n",
      "iter: 120, rho: 1.0990727548516912, sigma: 2, PSNR: 38.92033162283187, TIME: 26.277989864349365\n",
      "iter: 130, rho: 1.7902737048154005, sigma: 1, PSNR: 39.61625214469279, TIME: 28.042789697647095\n",
      "iter: 140, rho: 2.9161672182347496, sigma: 1, PSNR: 40.23905047580409, TIME: 29.807799816131592\n",
      "iter: 150, rho: 4.750129112567103, sigma: 1, PSNR: 40.76693510211057, TIME: 31.572479248046875\n",
      "iter: 160, rho: 7.7374597879596525, sigma: 0, PSNR: 41.2066221434595, TIME: 33.32944846153259\n",
      "iter: 170, rho: 12.603506673514003, sigma: 0, PSNR: 41.577210517928265, TIME: 35.09758114814758\n",
      "iter: 180, rho: 20.529784299040593, sigma: 0, PSNR: 41.89314762385253, TIME: 36.85980534553528\n",
      "iter: 190, rho: 33.44085533360711, sigma: 0, PSNR: 42.16533562838204, TIME: 38.6220920085907\n",
      "iter: 200, rho: 54.47162956775439, sigma: 0, PSNR: 42.40228001496107, TIME: 40.37824773788452\n",
      "iter: 210, rho: 88.72854471472635, sigma: 0, PSNR: 42.61056502602197, TIME: 42.14468693733215\n",
      "iter: 220, rho: 144.52944972759974, sigma: 0, PSNR: 42.79565917744465, TIME: 43.90070724487305\n",
      "iter: 230, rho: 235.4232440723877, sigma: 0, PSNR: 42.961901257701776, TIME: 45.65352010726929\n",
      "iter: 240, rho: 383.47965728802654, sigma: 0, PSNR: 43.11264641479933, TIME: 47.4226188659668\n",
      "iter: 250, rho: 624.6479532349215, sigma: 0, PSNR: 43.25059645412236, TIME: 49.183417320251465\n",
      "iter: 260, rho: 1017.4856946518904, sigma: 0, PSNR: 43.37785999497864, TIME: 50.93928360939026\n",
      "iter: 270, rho: 1657.3769808413779, sigma: 0, PSNR: 43.49609227302844, TIME: 52.694488286972046\n",
      "iter: 280, rho: 2699.69245863714, sigma: 0, PSNR: 43.60660709671129, TIME: 54.9455771446228\n",
      "iter: 290, rho: 4397.514539825621, sigma: 0, PSNR: 43.71046229171054, TIME: 57.19701910018921\n",
      "iter: 300, rho: 7163.087805097629, sigma: 0, PSNR: 43.808522453072456, TIME: 59.38356137275696\n",
      "iter: 310, rho: 11667.915236858551, sigma: 0, PSNR: 43.901490696163265, TIME: 61.151424169540405\n",
      "iter: 320, rho: 19005.804435013542, sigma: 0, PSNR: 43.98993330292585, TIME: 62.91219472885132\n",
      "iter: 330, rho: 30958.452721776437, sigma: 0, PSNR: 44.07433061433166, TIME: 64.66910147666931\n",
      "iter: 340, rho: 50428.057291845114, sigma: 0, PSNR: 44.1550932539306, TIME: 66.42843317985535\n",
      "iter: 350, rho: 82141.99156151152, sigma: 0, PSNR: 44.232570855676556, TIME: 68.19012451171875\n",
      "iter: 360, rho: 133800.6486873441, sigma: 0, PSNR: 44.30706413079292, TIME: 69.94952893257141\n",
      "iter: 370, rho: 217947.15770615102, sigma: 0, PSNR: 44.37883244654235, TIME: 71.71150183677673\n",
      "iter: 380, rho: 355012.95410896523, sigma: 0, PSNR: 44.44810106512638, TIME: 73.47378349304199\n",
      "iter: 390, rho: 578278.6933844801, sigma: 0, PSNR: 44.51508276881963, TIME: 75.23175525665283\n",
      "iter: 400, rho: 941955.0564338595, sigma: 0, PSNR: 44.579944711186236, TIME: 77.00548124313354\n",
      "iter: 410, rho: 1534345.530090956, sigma: 0, PSNR: 44.64283546279866, TIME: 78.76576447486877\n",
      "iter: 420, rho: 2499287.1895851446, sigma: 0, PSNR: 44.70389273616969, TIME: 80.5764696598053\n",
      "iter: 430, rho: 4071075.473888937, sigma: 0, PSNR: 44.763242143063934, TIME: 82.45554089546204\n",
      "iter: 440, rho: 6631352.964623119, sigma: 0, PSNR: 44.820997466337744, TIME: 84.32571649551392\n",
      "iter: 450, rho: 10801775.212339258, sigma: 0, PSNR: 44.877259818307635, TIME: 86.18528938293457\n",
      "iter: 460, rho: 17594953.60303718, sigma: 0, PSNR: 44.93211769952738, TIME: 88.03012084960938\n",
      "iter: 470, rho: 28660325.382385656, sigma: 0, PSNR: 44.98565186644014, TIME: 89.8101155757904\n",
      "iter: 480, rho: 46684650.01706114, sigma: 0, PSNR: 45.037936287518654, TIME: 91.59160780906677\n",
      "iter: 490, rho: 76044375.56577632, sigma: 0, PSNR: 45.08903958928731, TIME: 93.37729287147522\n"
     ]
    }
   ],
   "source": [
    "gamma=1.05\n",
    "lam=1e-4\n",
    "rho=0.003\n",
    "max_iter=500\n",
    "eps=1e-11\n",
    "step_lr=0.43\n",
    "verbose=True\n",
    "\n",
    "v = image_initial.repeat(1,3,1,1)\n",
    "x = v.clone()\n",
    "u = torch.zeros_like(v)\n",
    "\n",
    "psnrs = []\n",
    "rho_k = rho\n",
    "time1 = time.time()\n",
    "for idx in range(max_iter):\n",
    "    x_old = x.clone()\n",
    "    v_old = v.clone()\n",
    "    u_old = u.clone()\n",
    "    #-----------------------------------------------\n",
    "    # denoising step\n",
    "    #-----------------------------------------------\n",
    "    sigma = math.sqrt(lam/rho_k)\n",
    "    sigma = torch.tensor(sigma).to(x.device)\n",
    "    sigma = sigma.view(1,1,1,1)\n",
    "    with torch.no_grad():\n",
    "        inputs = x + u + torch.randn_like(x).clip(-0.8,0.8) * sigma\n",
    "        logp = scorenet(inputs, sigma/math.sqrt(2))\n",
    "        clip_c = sigma.sqrt().squeeze().item()\n",
    "        v = x + u + step_lr*torch.clamp(logp*sigma**2,-clip_c,clip_c)\n",
    "\n",
    "    #-----------------------------------------------\n",
    "    # projection step\n",
    "    #-----------------------------------------------\n",
    "    v_sub_u = tensor_split(v - u)\n",
    "    \n",
    "    v_sub_u_complex = tensor2complex(v_sub_u)\n",
    "    iterkspace = FT(v_sub_u_complex,csm)*(1-mask_np)\n",
    "    iterkspace = kspace_sampled + iterkspace#*(1-mask)\n",
    "    v_sub_u_complex  = tFT(iterkspace,csm)\n",
    "    x = numpy2tensor(v_sub_u_complex).permute(2,0,1).unsqueeze(0).to(x.device)\n",
    "    #-----------------------------------------------\n",
    "    # multiplier update step\n",
    "    #-----------------------------------------------\n",
    "    u = x - v_sub_u\n",
    "    \n",
    "    u = u.repeat(1,3,1,1)\n",
    "    x = x.repeat(1,3,1,1)\n",
    "\n",
    "    if image_target is not None:\n",
    "        PSNR = batch_PSNR(image_target, tensor_split(x))\n",
    "        psnrs.append(PSNR)\n",
    "\n",
    "    rho_k = gamma*rho_k\n",
    "\n",
    "    if verbose and (idx%10 == 0):\n",
    "        print(f'iter: {idx}, rho: {rho_k}, sigma: {int(sigma*255)}, PSNR: {PSNR}, TIME: {time.time()-time1}')\n",
    "\n",
    "    delta = (v_old-v).pow(2).mean() + (u_old-u).pow(2).mean() + (x_old-x).pow(2).mean()\n",
    "    if delta < eps:\n",
    "        break"
   ]
  },
  {
   "cell_type": "code",
   "execution_count": 43,
   "metadata": {},
   "outputs": [
    {
     "data": {
      "image/png": "[encoded data removed]",
      "text/plain": [
       "<Figure size 432x288 with 1 Axes>"
      ]
     },
     "metadata": {
      "needs_background": "light"
     },
     "output_type": "display_data"
    }
   ],
   "source": [
    "fig  = plt.figure()\n",
    "ax = fig.add_subplot(1,1,1)\n",
    "ax.plot(psnrs)\n",
    "plt.ylabel(\"PSNR\")\n",
    "plt.xlabel(\"Iteration\")\n",
    "plt.show()"
   ]
  }
 ],
 "metadata": {
  "kernelspec": {
   "display_name": "Python 3",
   "language": "python",
   "name": "python3"
  },
  "language_info": {
   "codemirror_mode": {
    "name": "ipython",
    "version": 3
   },
   "file_extension": ".py",
   "mimetype": "text/x-python",
   "name": "python",
   "nbconvert_exporter": "python",
   "pygments_lexer": "ipython3",
   "version": "3.7.10"
  }
 },
 "nbformat": 4,
 "nbformat_minor": 2
}
