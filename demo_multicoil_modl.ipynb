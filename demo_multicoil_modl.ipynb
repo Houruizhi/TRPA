{
 "cells": [
  {
   "cell_type": "code",
   "execution_count": 28,
   "metadata": {},
   "outputs": [],
   "source": [
    "# the PSNR of Modl method is 39.22 dB, ours are 45.08 dB\n",
    "# see in https://github.com/hkaggarwal/modl"
   ]
  },
  {
   "cell_type": "code",
   "execution_count": 1,
   "metadata": {},
   "outputs": [],
   "source": [
    "import os\n",
    "import time\n",
    "import cv2\n",
    "import torch\n",
    "import torch.nn as nn\n",
    "import h5py\n",
    "import numpy as np\n",
    "import math\n",
    "\n",
    "from src.models.condrefinenet import CondRefineNetDilated\n",
    "from src.config import get_cfg_defaults\n",
    "from src.data import numpy2tensor, image2tensor, tensor2image, tensor2complex, tensor_split\n",
    "from src.metrics import psnr, ssim, batch_PSNR\n",
    "from src.utils_TRPA import *\n",
    "import matplotlib.pyplot as plt\n",
    "\n",
    "from scipy.io import loadmat,savemat\n",
    "\n",
    "os.environ[\"CUDA_DEVICE_ORDER\"] = \"PCI_BUS_ID\"\n",
    "os.environ[\"CUDA_VISIBLE_DEVICES\"] = \"1\""
   ]
  },
  {
   "cell_type": "code",
   "execution_count": 2,
   "metadata": {},
   "outputs": [],
   "source": [
    "label_num = 10\n",
    "chp_path = './checkpoints/SIAT/net.pth'\n",
    "states = torch.load(chp_path)\n",
    "scorenet = CondRefineNetDilated(6,6,128).cuda()\n",
    "scorenet.load_state_dict(states['weights'])\n",
    "scorenet.eval();"
   ]
  },
  {
   "cell_type": "code",
   "execution_count": 3,
   "metadata": {},
   "outputs": [],
   "source": [
    "filename='./data/modl/demoImage.hdf5' #set the correct path here\n",
    "with h5py.File(filename,'r') as f:\n",
    "    org,csm,mask=f['tstOrg'][:],f['tstCsm'][:],f['tstMask'][:]\n",
    "#print(org.shape,csm.shape,mask.shape)\n",
    "orim = org[0]\n",
    "csm = csm[0]\n",
    "patt = mask[0]"
   ]
  },
  {
   "cell_type": "code",
   "execution_count": 4,
   "metadata": {},
   "outputs": [],
   "source": [
    "def FT(x,csm):\n",
    "    \"\"\" This is a the A operator as defined in the paper\"\"\"\n",
    "    ncoil,nrow,ncol = csm.shape\n",
    "    ccImg=np.reshape(x,(nrow,ncol) )\n",
    "    coilImages=np.tile(ccImg,[ncoil,1,1])*csm;\n",
    "    kspace=np.fft.fft2(coilImages)/np.sqrt(nrow * ncol)\n",
    "    return kspace\n",
    "\n",
    "def tFT(kspaceUnder,csm):\n",
    "    \"\"\" This is a the A^T operator as defined in the paper\"\"\"\n",
    "    ncoil,nrow,ncol = csm.shape\n",
    "    #temp=np.zeros((ncoil,nrow,ncol),dtype=np.complex64)\n",
    "    img=np.fft.ifft2(kspaceUnder)*np.sqrt(nrow*ncol)\n",
    "    coilComb=np.sum(img*np.conj(csm),axis=0).astype(np.complex64)\n",
    "    #coilComb=coilComb.ravel();\n",
    "    return coilComb"
   ]
  },
  {
   "cell_type": "code",
   "execution_count": 5,
   "metadata": {},
   "outputs": [
    {
     "name": "stdout",
     "output_type": "stream",
     "text": [
      "(12, 256, 232)\n"
     ]
    }
   ],
   "source": [
    "img_original = orim\n",
    "\n",
    "img_original = img_original/np.max(np.abs(img_original))\n",
    "mask_np = patt\n",
    "#print(ori_complex.shape,csm.shape,mask.shape)\n",
    "ksp = FT(img_original,csm)\n",
    "print(ksp.shape)\n",
    "if len(mask_np.shape)==2:\n",
    "    mask_np=np.tile(mask_np,(csm.shape[0],1,1))\n",
    "#get multi coil undersample kspace by mask\n",
    "\n",
    "usksp = ksp * mask\n",
    "\n",
    "image_zeroFilled = tFT(usksp,csm)\n",
    "\n",
    "kspace_sampled = usksp"
   ]
  },
  {
   "cell_type": "code",
   "execution_count": 6,
   "metadata": {},
   "outputs": [],
   "source": [
    "image_target = numpy2tensor(img_original).permute(2,0,1).unsqueeze(0).cuda() # only compute the PSNR\n",
    "\n",
    "image_initial = numpy2tensor(image_zeroFilled).permute(2,0,1).unsqueeze(0).cuda()\n",
    "# image_initial = torch.rand_like(image_target)\n",
    "\n",
    "mask = torch.Tensor(mask_np).unsqueeze(0).unsqueeze(-1) #(1,h,w,1)\n",
    "mask = torch.cat((mask,mask), dim=-1)"
   ]
  },
  {
   "cell_type": "code",
   "execution_count": 7,
   "metadata": {},
   "outputs": [
    {
     "name": "stdout",
     "output_type": "stream",
     "text": [
      "iter: 0, rho: 0.00315, sigma: 46, PSNR: 24.434223641675516, TIME: 0.8916623592376709\n",
      "iter: 10, rho: 0.005131018074348942, sigma: 36, PSNR: 27.611623396595203, TIME: 3.211634635925293\n",
      "iter: 20, rho: 0.008357887771204931, sigma: 28, PSNR: 28.978697065092373, TIME: 5.495657920837402\n",
      "iter: 30, rho: 0.013614118481724603, sigma: 22, PSNR: 30.18697816835653, TIME: 7.784557342529297\n",
      "iter: 40, rho: 0.022175964443192676, sigma: 17, PSNR: 31.359273251545893, TIME: 10.07432770729065\n",
      "iter: 50, rho: 0.03612230932512416, sigma: 13, PSNR: 32.462536121297056, TIME: 12.353373289108276\n",
      "iter: 60, rho: 0.05883943556648745, sigma: 10, PSNR: 33.47682838960059, TIME: 14.637275457382202\n",
      "iter: 70, rho: 0.0958432404368689, sigma: 8, PSNR: 34.48354357140449, TIME: 16.913321256637573\n",
      "iter: 80, rho: 0.15611853936055423, sigma: 6, PSNR: 35.49635225723559, TIME: 19.213340044021606\n",
      "iter: 90, rho: 0.2543006499047494, sigma: 5, PSNR: 36.4303923879878, TIME: 21.50688123703003\n",
      "iter: 100, rho: 0.41422896221585775, sigma: 4, PSNR: 37.315471742435086, TIME: 23.805412530899048\n",
      "iter: 110, rho: 0.6747353308090069, sigma: 3, PSNR: 38.15421653090373, TIME: 26.10288166999817\n",
      "iter: 120, rho: 1.0990727548516912, sigma: 2, PSNR: 38.92705107326667, TIME: 28.383429288864136\n",
      "iter: 130, rho: 1.7902737048154005, sigma: 1, PSNR: 39.621430446321305, TIME: 30.676862955093384\n",
      "iter: 140, rho: 2.9161672182347496, sigma: 1, PSNR: 40.243506678962795, TIME: 33.02090287208557\n",
      "iter: 150, rho: 4.750129112567103, sigma: 1, PSNR: 40.77210717830347, TIME: 35.35050630569458\n",
      "iter: 160, rho: 7.7374597879596525, sigma: 0, PSNR: 41.21125404761884, TIME: 37.659257650375366\n",
      "iter: 170, rho: 12.603506673514003, sigma: 0, PSNR: 41.58194455015065, TIME: 39.94777035713196\n",
      "iter: 180, rho: 20.529784299040593, sigma: 0, PSNR: 41.897920271276206, TIME: 42.24834322929382\n",
      "iter: 190, rho: 33.44085533360711, sigma: 0, PSNR: 42.17028695598056, TIME: 44.570103883743286\n",
      "iter: 200, rho: 54.47162956775439, sigma: 0, PSNR: 42.40736798655912, TIME: 46.86576008796692\n",
      "iter: 210, rho: 88.72854471472635, sigma: 0, PSNR: 42.615767159575796, TIME: 49.146949768066406\n",
      "iter: 220, rho: 144.52944972759974, sigma: 0, PSNR: 42.80091117661624, TIME: 51.43922758102417\n",
      "iter: 230, rho: 235.4232440723877, sigma: 0, PSNR: 42.96720484595146, TIME: 53.71761107444763\n",
      "iter: 240, rho: 383.47965728802654, sigma: 0, PSNR: 43.117996549465985, TIME: 55.99959468841553\n",
      "iter: 250, rho: 624.6479532349215, sigma: 0, PSNR: 43.255985587068615, TIME: 58.28019690513611\n",
      "iter: 260, rho: 1017.4856946518904, sigma: 0, PSNR: 43.38328563650705, TIME: 60.59667134284973\n",
      "iter: 270, rho: 1657.3769808413779, sigma: 0, PSNR: 43.50156022012369, TIME: 62.88411474227905\n",
      "iter: 280, rho: 2699.69245863714, sigma: 0, PSNR: 43.61212725998239, TIME: 65.17491817474365\n",
      "iter: 290, rho: 4397.514539825621, sigma: 0, PSNR: 43.71604214164001, TIME: 67.48890566825867\n",
      "iter: 300, rho: 7163.087805097629, sigma: 0, PSNR: 43.814163120680796, TIME: 69.78912568092346\n",
      "iter: 310, rho: 11667.915236858551, sigma: 0, PSNR: 43.907178555786935, TIME: 72.09256029129028\n",
      "iter: 320, rho: 19005.804435013542, sigma: 0, PSNR: 43.99567299443, TIME: 74.37409019470215\n",
      "iter: 330, rho: 30958.452721776437, sigma: 0, PSNR: 44.080120855232366, TIME: 76.66363525390625\n",
      "iter: 340, rho: 50428.057291845114, sigma: 0, PSNR: 44.160934050436644, TIME: 78.95371913909912\n",
      "iter: 350, rho: 82141.99156151152, sigma: 0, PSNR: 44.238461000289455, TIME: 81.23770141601562\n",
      "iter: 360, rho: 133800.6486873441, sigma: 0, PSNR: 44.31300411914697, TIME: 83.53045105934143\n",
      "iter: 370, rho: 217947.15770615102, sigma: 0, PSNR: 44.384819883161725, TIME: 85.81507277488708\n",
      "iter: 380, rho: 355012.95410896523, sigma: 0, PSNR: 44.45413387195022, TIME: 88.0923056602478\n",
      "iter: 390, rho: 578278.6933844801, sigma: 0, PSNR: 44.521154348943895, TIME: 90.37015557289124\n",
      "iter: 400, rho: 941955.0564338595, sigma: 0, PSNR: 44.586058921650704, TIME: 92.69564032554626\n",
      "iter: 410, rho: 1534345.530090956, sigma: 0, PSNR: 44.648990142379546, TIME: 95.028156042099\n",
      "iter: 420, rho: 2499287.1895851446, sigma: 0, PSNR: 44.710086442738124, TIME: 97.34548878669739\n",
      "iter: 430, rho: 4071075.473888937, sigma: 0, PSNR: 44.76947299804274, TIME: 99.65519309043884\n",
      "iter: 440, rho: 6631352.964623119, sigma: 0, PSNR: 44.827265614282865, TIME: 101.9476146697998\n",
      "iter: 450, rho: 10801775.212339258, sigma: 0, PSNR: 44.883563379002055, TIME: 104.24123549461365\n",
      "iter: 460, rho: 17594953.60303718, sigma: 0, PSNR: 44.93845473248015, TIME: 106.53665065765381\n",
      "iter: 470, rho: 28660325.382385656, sigma: 0, PSNR: 44.992020225151485, TIME: 108.84700059890747\n",
      "iter: 480, rho: 46684650.01706114, sigma: 0, PSNR: 45.04433479478549, TIME: 111.14330768585205\n",
      "iter: 490, rho: 76044375.56577632, sigma: 0, PSNR: 45.095466658338765, TIME: 113.44123721122742\n"
     ]
    }
   ],
   "source": [
    "gamma=1.05\n",
    "lam=1e-4\n",
    "rho=0.003\n",
    "max_iter=500\n",
    "eps=1e-11\n",
    "step_lr=0.43\n",
    "verbose=True\n",
    "\n",
    "v = image_initial.repeat(1,3,1,1)\n",
    "x = v.clone()\n",
    "u = torch.zeros_like(v)\n",
    "\n",
    "psnrs = []\n",
    "rho_k = rho\n",
    "time1 = time.time()\n",
    "for idx in range(max_iter):\n",
    "    x_old = x.clone()\n",
    "    v_old = v.clone()\n",
    "    u_old = u.clone()\n",
    "    #-----------------------------------------------\n",
    "    # denoising step\n",
    "    #-----------------------------------------------\n",
    "    sigma = math.sqrt(lam/rho_k)\n",
    "    sigma = torch.tensor(sigma).to(x.device)\n",
    "    sigma = sigma.view(1,1,1,1)\n",
    "    with torch.no_grad():\n",
    "        inputs = x + u + torch.randn_like(x).clip(-0.8,0.8) * sigma\n",
    "        logp = scorenet(inputs, sigma/math.sqrt(2))\n",
    "        clip_c = sigma.sqrt().squeeze().item()\n",
    "        v = x + u + step_lr*torch.clamp(logp*sigma**2,-clip_c,clip_c)\n",
    "\n",
    "    #-----------------------------------------------\n",
    "    # projection step\n",
    "    #-----------------------------------------------\n",
    "    v_sub_u = tensor_split(v - u)\n",
    "    \n",
    "    v_sub_u_complex = tensor2complex(v_sub_u)\n",
    "    iterkspace = FT(v_sub_u_complex,csm)*(1-mask_np)\n",
    "    iterkspace = kspace_sampled + iterkspace#*(1-mask)\n",
    "    v_sub_u_complex  = tFT(iterkspace,csm)\n",
    "    x = numpy2tensor(v_sub_u_complex).permute(2,0,1).unsqueeze(0).to(x.device)\n",
    "    #-----------------------------------------------\n",
    "    # multiplier update step\n",
    "    #-----------------------------------------------\n",
    "    u = x - v_sub_u\n",
    "    \n",
    "    u = u.repeat(1,3,1,1)\n",
    "    x = x.repeat(1,3,1,1)\n",
    "\n",
    "    if image_target is not None:\n",
    "        PSNR = batch_PSNR(image_target, tensor_split(x))\n",
    "        psnrs.append(PSNR)\n",
    "\n",
    "    rho_k = gamma*rho_k\n",
    "\n",
    "    if verbose and (idx%10 == 0):\n",
    "        print(f'iter: {idx}, rho: {rho_k}, sigma: {int(sigma*255)}, PSNR: {PSNR}, TIME: {time.time()-time1}')\n",
    "\n",
    "    delta = (v_old-v).pow(2).mean() + (u_old-u).pow(2).mean() + (x_old-x).pow(2).mean()\n",
    "    if delta < eps:\n",
    "        break"
   ]
  },
  {
   "cell_type": "code",
   "execution_count": 8,
   "metadata": {},
   "outputs": [
    {
     "data": {
      "image/png": "[encoded data removed]",
      "text/plain": [
       "<Figure size 432x288 with 1 Axes>"
      ]
     },
     "metadata": {
      "needs_background": "light"
     },
     "output_type": "display_data"
    }
   ],
   "source": [
    "fig  = plt.figure()\n",
    "ax = fig.add_subplot(1,1,1)\n",
    "ax.plot(psnrs)\n",
    "plt.ylabel(\"PSNR\")\n",
    "plt.xlabel(\"Iteration\")\n",
    "plt.show()"
   ]
  },
  {
   "cell_type": "code",
   "execution_count": null,
   "metadata": {},
   "outputs": [],
   "source": []
  }
 ],
 "metadata": {
  "kernelspec": {
   "display_name": "Python 3",
   "language": "python",
   "name": "python3"
  },
  "language_info": {
   "codemirror_mode": {
    "name": "ipython",
    "version": 3
   },
   "file_extension": ".py",
   "mimetype": "text/x-python",
   "name": "python",
   "nbconvert_exporter": "python",
   "pygments_lexer": "ipython3",
   "version": "3.7.10"
  }
 },
 "nbformat": 4,
 "nbformat_minor": 2
}
